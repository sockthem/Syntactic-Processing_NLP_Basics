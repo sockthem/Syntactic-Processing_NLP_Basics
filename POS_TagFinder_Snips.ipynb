{
 "cells": [
  {
   "cell_type": "code",
   "execution_count": 3,
   "metadata": {},
   "outputs": [],
   "source": [
    "import pandas as pd\n",
    "import numpy as np\n",
    "from tqdm import tqdm"
   ]
  },
  {
   "cell_type": "code",
   "execution_count": 4,
   "metadata": {},
   "outputs": [],
   "source": [
    "data = pd.read_csv(r\"C:\\Users\\Ranajoy Bhattacharya\\Downloads\\tagged_words.csv\")\n",
    "sent = \"I saw him running away\"\n",
    "\n"
   ]
  },
  {
   "cell_type": "code",
   "execution_count": null,
   "metadata": {},
   "outputs": [],
   "source": []
  },
  {
   "cell_type": "code",
   "execution_count": 6,
   "metadata": {},
   "outputs": [
    {
     "name": "stdout",
     "output_type": "stream",
     "text": [
      "('I', 'PRON')\n",
      "('saw', 'VERB')\n",
      "('him', 'PRON')\n",
      "('running', 'VERB')\n",
      "('away', 'ADV')\n"
     ]
    },
    {
     "data": {
      "text/plain": [
       "DET     6957\n",
       "PRON      37\n",
       "X          2\n",
       "Name: tag, dtype: int64"
      ]
     },
     "execution_count": 6,
     "metadata": {},
     "output_type": "execute_result"
    }
   ],
   "source": [
    "def get_common_tag(data,word):\n",
    "    if word.lower() in data['word'].unique():\n",
    "        q = f\"word=='{word.lower()}'\"\n",
    "        return word , data.query(q)['tag'].value_counts().head(1).index.tolist()[0]\n",
    "    else:\n",
    "        return f\"{word} not in data\"\n",
    "\n",
    "for word in sent.split(\" \"):\n",
    "    print(get_common_tag(data,word))\n",
    " \n",
    "data.query(\"word=='his'\")['tag'].value_counts()"
   ]
  },
  {
   "cell_type": "code",
   "execution_count": null,
   "metadata": {},
   "outputs": [],
   "source": []
  },
  {
   "cell_type": "code",
   "execution_count": 7,
   "metadata": {},
   "outputs": [
    {
     "data": {
      "text/plain": [
       "0.001"
      ]
     },
     "execution_count": 7,
     "metadata": {},
     "output_type": "execute_result"
    }
   ],
   "source": [
    "import pandas as pd\n",
    "data = pd.read_csv(r\"C:\\Users\\Ranajoy Bhattacharya\\Downloads\\tagged_words.csv\")\n",
    "emmission_matrix = pd.crosstab(data['word'],data['tag'],normalize='columns')\n",
    "\n",
    "word = 'his'\n",
    "emmission_matrix.loc[word][emmission_matrix.loc[word]>0].round(3)\n",
    "emmission_matrix['PRON'].loc['his'].round(3)"
   ]
  },
  {
   "cell_type": "code",
   "execution_count": null,
   "metadata": {},
   "outputs": [],
   "source": []
  }
 ],
 "metadata": {
  "kernelspec": {
   "display_name": "Python 3",
   "language": "python",
   "name": "python3"
  },
  "language_info": {
   "codemirror_mode": {
    "name": "ipython",
    "version": 3
   },
   "file_extension": ".py",
   "mimetype": "text/x-python",
   "name": "python",
   "nbconvert_exporter": "python",
   "pygments_lexer": "ipython3",
   "version": "3.8.5"
  }
 },
 "nbformat": 4,
 "nbformat_minor": 4
}
